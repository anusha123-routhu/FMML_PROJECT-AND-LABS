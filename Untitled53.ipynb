{
  "nbformat": 4,
  "nbformat_minor": 0,
  "metadata": {
    "colab": {
      "provenance": [],
      "authorship_tag": "ABX9TyPGegBb4/zEfuzFwul/SQQF",
      "include_colab_link": true
    },
    "kernelspec": {
      "name": "python3",
      "display_name": "Python 3"
    },
    "language_info": {
      "name": "python"
    }
  },
  "cells": [
    {
      "cell_type": "markdown",
      "metadata": {
        "id": "view-in-github",
        "colab_type": "text"
      },
      "source": [
        "<a href=\"https://colab.research.google.com/github/anusha123-routhu/FMML_PROJECT-AND-LABS/blob/main/Untitled53.ipynb\" target=\"_parent\"><img src=\"https://colab.research.google.com/assets/colab-badge.svg\" alt=\"Open In Colab\"/></a>"
      ]
    },
    {
      "cell_type": "markdown",
      "source": [
        "**Palindrome**"
      ],
      "metadata": {
        "id": "n6jkxwvJTc65"
      }
    },
    {
      "cell_type": "code",
      "source": [
        "def check_palindrome(str):\n",
        "  reverse=\"\"\n",
        "  for char in str:\n",
        "    reverse=char+reverse\n",
        "  if str==reverse:\n",
        "    return \"palindrome\"\n",
        "  else:\n",
        "    return \"not a palindrome\"\n",
        "str=input()\n",
        "result=check_palindrome(str)\n",
        "print(result)"
      ],
      "metadata": {
        "colab": {
          "base_uri": "https://localhost:8080/"
        },
        "id": "cMIdiL7IYnTX",
        "outputId": "33482d13-fd46-484a-941a-3822a9a0cd97"
      },
      "execution_count": null,
      "outputs": [
        {
          "output_type": "stream",
          "name": "stdout",
          "text": [
            "121\n",
            "palindrome\n"
          ]
        }
      ]
    },
    {
      "cell_type": "code",
      "source": [
        "str=input()\n",
        "reverse=\"\"\n",
        "for char in str:\n",
        "  reverse=char+reverse\n",
        "if str==reverse:\n",
        "  print(\"palindrome\")\n",
        "else:\n",
        "  print(\"not a palindrome\")"
      ],
      "metadata": {
        "colab": {
          "base_uri": "https://localhost:8080/"
        },
        "id": "AO3Yb2vxZmen",
        "outputId": "3c9e4ba7-c6d7-4a9e-bb60-28e7c852cd4e"
      },
      "execution_count": null,
      "outputs": [
        {
          "output_type": "stream",
          "name": "stdout",
          "text": [
            "AnA\n",
            "palindrome\n"
          ]
        }
      ]
    },
    {
      "cell_type": "markdown",
      "source": [
        "**Armstrong Number**"
      ],
      "metadata": {
        "id": "ffVNJQYCacbM"
      }
    },
    {
      "cell_type": "code",
      "source": [
        "num=input()\n",
        "sum=0\n",
        "for i in num:\n",
        "  sum+= int(i) ** len(num)\n",
        "if sum== int(num):\n",
        " print(\"Armstrong\")\n",
        "else:\n",
        "  print(\"not an Armstrong\")"
      ],
      "metadata": {
        "colab": {
          "base_uri": "https://localhost:8080/"
        },
        "id": "yUASiG75aZgC",
        "outputId": "a9459427-50aa-4325-d8cb-b1ce9851f30c"
      },
      "execution_count": 21,
      "outputs": [
        {
          "output_type": "stream",
          "name": "stdout",
          "text": [
            "153\n",
            "Armstrong\n"
          ]
        }
      ]
    },
    {
      "cell_type": "code",
      "source": [
        "def check_armstrong(num):\n",
        "  sum=0\n",
        "  for i in num:\n",
        "    sum+=int(i)** len(num)\n",
        "  if sum==int(num):\n",
        "    return \"armstrong\"\n",
        "  else:\n",
        "    return \"not an armstrong\"\n",
        "num=input()\n",
        "result=check_armstrong(num)\n",
        "print(result)"
      ],
      "metadata": {
        "id": "4K4vKDUnZy0t",
        "colab": {
          "base_uri": "https://localhost:8080/"
        },
        "outputId": "2c3449bf-7d2c-47d9-f034-5e4d8d31a128"
      },
      "execution_count": 24,
      "outputs": [
        {
          "output_type": "stream",
          "name": "stdout",
          "text": [
            "153\n",
            "armstrong\n"
          ]
        }
      ]
    }
  ]
}