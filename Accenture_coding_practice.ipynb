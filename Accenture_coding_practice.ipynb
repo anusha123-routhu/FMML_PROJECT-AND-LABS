{
  "nbformat": 4,
  "nbformat_minor": 0,
  "metadata": {
    "colab": {
      "provenance": [],
      "authorship_tag": "ABX9TyMvlgsI8p8Wns6BDoE6SzHM",
      "include_colab_link": true
    },
    "kernelspec": {
      "name": "python3",
      "display_name": "Python 3"
    },
    "language_info": {
      "name": "python"
    }
  },
  "cells": [
    {
      "cell_type": "markdown",
      "metadata": {
        "id": "view-in-github",
        "colab_type": "text"
      },
      "source": [
        "<a href=\"https://colab.research.google.com/github/anusha123-routhu/FMML_PROJECT-AND-LABS/blob/main/Accenture_coding_practice.ipynb\" target=\"_parent\"><img src=\"https://colab.research.google.com/assets/colab-badge.svg\" alt=\"Open In Colab\"/></a>"
      ]
    },
    {
      "cell_type": "markdown",
      "source": [
        "**REVERSE A STRING**\n"
      ],
      "metadata": {
        "id": "J9FXNOArhS3z"
      }
    },
    {
      "cell_type": "code",
      "source": [
        "s=input()\n",
        "reverse=s[::-1]\n",
        "print(reverse)"
      ],
      "metadata": {
        "colab": {
          "base_uri": "https://localhost:8080/"
        },
        "id": "OTWUG9kbh1Yp",
        "outputId": "634818ca-996d-4b40-f24f-8cffd4c50746"
      },
      "execution_count": 4,
      "outputs": [
        {
          "output_type": "stream",
          "name": "stdout",
          "text": [
            "reverse\n",
            "esrever\n"
          ]
        }
      ]
    },
    {
      "cell_type": "code",
      "source": [
        "n=input()\n",
        "reverse=\"\"\n",
        "for char in n:\n",
        "  reverse=char+reverse\n",
        "  print(reverse)"
      ],
      "metadata": {
        "colab": {
          "base_uri": "https://localhost:8080/"
        },
        "id": "wBkuiztAijex",
        "outputId": "69754f92-7d13-4e32-bda5-148e01b4209f"
      },
      "execution_count": 7,
      "outputs": [
        {
          "output_type": "stream",
          "name": "stdout",
          "text": [
            "what\n",
            "tahw\n"
          ]
        }
      ]
    },
    {
      "cell_type": "code",
      "source": [
        "def reverse_string(s):\n",
        "  reverse=\" \"\n",
        "  for char in s:\n",
        "    reverse=char+reverse\n",
        "  return reverse\n",
        "s=input()\n",
        "reverse=reverse_string(s)\n",
        "print(reverse)\n",
        "\n"
      ],
      "metadata": {
        "colab": {
          "base_uri": "https://localhost:8080/"
        },
        "id": "2WlhMQrJkj1t",
        "outputId": "ab57e262-49dc-4832-dfa5-6a6d99f5eb0c"
      },
      "execution_count": 10,
      "outputs": [
        {
          "output_type": "stream",
          "name": "stdout",
          "text": [
            "what\n",
            "tahw \n"
          ]
        }
      ]
    },
    {
      "cell_type": "markdown",
      "source": [
        "**Maximum element in an array**"
      ],
      "metadata": {
        "id": "eTmYWYm5mH9D"
      }
    },
    {
      "cell_type": "code",
      "source": [
        "def find_maximum(arr):\n",
        "    if len(arr) == 0:\n",
        "        return None\n",
        "    maximum = arr[0]\n",
        "    for element in arr:\n",
        "        if element > maximum:\n",
        "            maximum = element\n",
        "    return maximum\n",
        "\n",
        "arr = list(map(int, input().split()))\n",
        "maximum = find_maximum(arr)\n",
        "print(maximum)\n",
        "\n"
      ],
      "metadata": {
        "colab": {
          "base_uri": "https://localhost:8080/"
        },
        "id": "BYmSrFTpoA4q",
        "outputId": "facedd3b-3cf7-4e42-b74d-448a52f76a2b"
      },
      "execution_count": 33,
      "outputs": [
        {
          "output_type": "stream",
          "name": "stdout",
          "text": [
            "\n",
            "None\n"
          ]
        }
      ]
    },
    {
      "cell_type": "code",
      "source": [
        "#without uisng function\n",
        "arr=list(map(int,input().split()))\n",
        "if len(arr)==0:\n",
        "  print(\"none\")\n",
        "\n",
        "else:\n",
        "  maximum=arr[0]\n",
        "  for element in arr:\n",
        "    if element >  maximum:\n",
        "      maximum=element\n",
        "  print(maximum)\n",
        ""
      ],
      "metadata": {
        "colab": {
          "base_uri": "https://localhost:8080/"
        },
        "id": "_vAOrST8tMCx",
        "outputId": "6b52ab7b-e560-4154-9812-80c38fdbefdf"
      },
      "execution_count": 36,
      "outputs": [
        {
          "output_type": "stream",
          "name": "stdout",
          "text": [
            "1  2  3  4\n",
            "4\n"
          ]
        }
      ]
    },
    {
      "cell_type": "markdown",
      "source": [
        "**Palindrome**"
      ],
      "metadata": {
        "id": "M-QW-VlMuKpK"
      }
    },
    {
      "cell_type": "code",
      "source": [
        "n=input()\n",
        "reverse=\" \"\n",
        "for char in n:\n",
        "  reverse=char+reverse\n",
        "if n==reverse:\n",
        "    print(\"palindrome\")\n",
        "else:\n",
        "    print(\"not a palindrome\")"
      ],
      "metadata": {
        "id": "rBK8h2tBvQI8",
        "outputId": "86c9a0e4-48ff-45be-ab21-dc080204fed5",
        "colab": {
          "base_uri": "https://localhost:8080/"
        }
      },
      "execution_count": 2,
      "outputs": [
        {
          "output_type": "stream",
          "name": "stdout",
          "text": [
            "121\n",
            "not a palindrome\n"
          ]
        }
      ]
    },
    {
      "cell_type": "code",
      "source": [
        "def check_palindrome(s):\n",
        "  reverse=\"\"\n",
        "  for char in s:\n",
        "    reverse=char+reverse\n",
        "  if s==reverse:\n",
        "     print(\"palindrome\")\n",
        "  else:\n",
        "    print(\"not a palindrome       , ,,,,\")\n",
        "s=input()\n",
        "result=check_palindrome(s)\n",
        "print(result)\n",
        ""
      ],
      "metadata": {
        "id": "F3WYA7FHviRj",
        "outputId": "58cda406-7eb8-4480-8dc4-c73c00045b8c",
        "colab": {
          "base_uri": "https://localhost:8080/"
        }
      },
      "execution_count": 9,
      "outputs": [
        {
          "output_type": "stream",
          "name": "stdout",
          "text": [
            "121\n",
            "palindrome\n",
            "None\n"
          ]
        }
      ]
    },
    {
      "cell_type": "code",
      "source": [
        "n=input()\n",
        "reverse=\"=-pl,lllll;.\"\n",
        "for char in n :\n",
        "  reverse =char+reverse\n",
        "if n == reverse:\n",
        "          print(\"palindrome\")\n",
        "else:\n",
        "          print(\"not a palindrome\")\n",
        "\n"
      ],
      "metadata": {
        "id": "fFTgGmBSzbAK",
        "outputId": "4552d0ab-bd0d-4fa6-d6e0-99ca8c7e3a54",
        "colab": {
          "base_uri": "https://localhost:8080/"
        }
      },
      "execution_count": 15,
      "outputs": [
        {
          "output_type": "stream",
          "name": "stdout",
          "text": [
            "121\n",
            "palindrome\n"
          ]
        }
      ]
    },
    {
      "cell_type": "markdown",
      "source": [
        "**`Missing Number in  an array`**"
      ],
      "metadata": {
        "id": "zbjItFBs1SOE"
      }
    },
    {
      "cell_type": "code",
      "source": [
        "def find_missing_numbers(arr):\n",
        "    if not arr:\n",
        "        return None  # Handle empty array case\n",
        "\n",
        "    min_val = min(arr)\n",
        "    max_val = max(arr)\n",
        "\n",
        "    # Calculate the expected sum of all numbers from min_val to max_val\n",
        "    sum_expected = sum(range(min_val, max_val + 1))\n",
        "    sum_actual = sum(arr)\n",
        "\n",
        "    # Missing numbers\n",
        "    missing_sum = sum_expected - sum_actual\n",
        "\n",
        "    # To find which exact numbers are missing, you can check each number in the range\n",
        "    missing_numbers = []\n",
        "    for num in range(min_val, max_val + 1):\n",
        "         if num not in arr:\n",
        "               missing_numbers.append(num)\n",
        "\n",
        "    return missing_numbers\n",
        "\n",
        "# Example usage\n",
        "arr = list(map(int, input(\"Enter the elements of the array separated by spaces: \").split()))\n",
        "missing_numbers = find_missing_numbers(arr)\n",
        "print(\"The missing numbers are:\", missing_numbers)\n",
        "\n"
      ],
      "metadata": {
        "id": "TvQ6p1fL1am3",
        "outputId": "674d2a47-f9d5-416f-98b1-ce083dbe85c2",
        "colab": {
          "base_uri": "https://localhost:8080/"
        }
      },
      "execution_count": 30,
      "outputs": [
        {
          "output_type": "stream",
          "name": "stdout",
          "text": [
            "Enter the elements of the array separated by spaces: 1 2 3 5 7 9\n",
            "The missing numbers are: [4, 6, 8]\n"
          ]
        }
      ]
    }
  ]
}